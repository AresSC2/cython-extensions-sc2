{
 "cells": [
  {
   "metadata": {},
   "cell_type": "markdown",
   "source": "## Pathing Testbed",
   "id": "7ac6666e-e599-4712-bb0e-c1774591efe8"
  },
  {
   "cell_type": "code",
   "id": "ed24b807-8666-46d5-822d-c5345890cbaa",
   "metadata": {
    "ExecuteTime": {
     "end_time": "2025-03-21T21:39:07.609827Z",
     "start_time": "2025-03-21T21:39:07.606446Z"
    }
   },
   "source": [
    "# Change path as needed\n",
    "MAP_PATH = \"../tests/pickle_data/AncientCisternAIE.xz\""
   ],
   "outputs": [],
   "execution_count": 1
  },
  {
   "cell_type": "code",
   "id": "832ef3d4-55c0-4c5f-b2a3-324444e90539",
   "metadata": {
    "ExecuteTime": {
     "end_time": "2025-03-21T21:39:08.429855Z",
     "start_time": "2025-03-21T21:39:07.626124Z"
    }
   },
   "source": [
    "# load cell magic things\n",
    "%matplotlib notebook\n",
    "%load_ext line_profiler\n",
    "%load_ext Cython"
   ],
   "outputs": [],
   "execution_count": 2
  },
  {
   "cell_type": "code",
   "id": "43e201a3-e828-4568-b1ee-802502cf4ee6",
   "metadata": {
    "ExecuteTime": {
     "end_time": "2025-03-21T21:39:09.210800Z",
     "start_time": "2025-03-21T21:39:08.430861Z"
    }
   },
   "source": [
    "# imports\n",
    "from matplotlib.backend_bases import MouseButton\n",
    "import matplotlib.pyplot as plt\n",
    "import numpy as np\n",
    "\n",
    "from sc2.ids.unit_typeid import UnitTypeId\n",
    "from sc2.bot_ai import BotAI\n",
    "from sc2.position import Point2\n",
    "from sc2.dicts.unit_trained_from import UNIT_TRAINED_FROM\n",
    "from sc2.game_info import Race\n",
    "from sc2.unit import Unit\n",
    "from sc2.units import Units\n",
    "\n",
    "from cython_extensions import cy_dijkstra\n",
    "\n",
    "from tests.load_bot_from_pickle import get_map_specific_bot"
   ],
   "outputs": [],
   "execution_count": 3
  },
  {
   "cell_type": "code",
   "id": "f7ded910-3843-4148-9c48-4acdaf81bbd0",
   "metadata": {
    "ExecuteTime": {
     "end_time": "2025-03-21T21:39:09.369712Z",
     "start_time": "2025-03-21T21:39:09.212317Z"
    }
   },
   "source": [
    "# setup a burnysc2 BOTAI instance we can test with\n",
    "bot: BotAI = get_map_specific_bot(MAP_PATH)"
   ],
   "outputs": [],
   "execution_count": 4
  },
  {
   "metadata": {
    "ExecuteTime": {
     "end_time": "2025-03-21T21:39:09.373334Z",
     "start_time": "2025-03-21T21:39:09.369712Z"
    }
   },
   "cell_type": "code",
   "source": [
    "cost = np.where(bot.game_info.pathing_grid.data_numpy.T == 1, 1.0, np.inf)\n",
    "targets_test = np.array([u.position.rounded for u in bot.units])"
   ],
   "id": "32568a9857fe459c",
   "outputs": [],
   "execution_count": 5
  },
  {
   "metadata": {
    "ExecuteTime": {
     "end_time": "2025-03-21T21:39:09.744232Z",
     "start_time": "2025-03-21T21:39:09.374339Z"
    }
   },
   "cell_type": "code",
   "source": [
    "%%timeit -n 10\n",
    "cy_dijkstra(cost, targets_test)"
   ],
   "id": "104dd9a70768eb3",
   "outputs": [
    {
     "ename": "ValueError",
     "evalue": "Buffer dtype mismatch, expected 'float' but got 'double'",
     "output_type": "error",
     "traceback": [
      "\u001B[1;31m---------------------------------------------------------------------------\u001B[0m",
      "\u001B[1;31mValueError\u001B[0m                                Traceback (most recent call last)",
      "Cell \u001B[1;32mIn[6], line 1\u001B[0m\n\u001B[1;32m----> 1\u001B[0m \u001B[43mget_ipython\u001B[49m\u001B[43m(\u001B[49m\u001B[43m)\u001B[49m\u001B[38;5;241;43m.\u001B[39;49m\u001B[43mrun_cell_magic\u001B[49m\u001B[43m(\u001B[49m\u001B[38;5;124;43m'\u001B[39;49m\u001B[38;5;124;43mtimeit\u001B[39;49m\u001B[38;5;124;43m'\u001B[39;49m\u001B[43m,\u001B[49m\u001B[43m \u001B[49m\u001B[38;5;124;43m'\u001B[39;49m\u001B[38;5;124;43m-n 10\u001B[39;49m\u001B[38;5;124;43m'\u001B[39;49m\u001B[43m,\u001B[49m\u001B[43m \u001B[49m\u001B[38;5;124;43m'\u001B[39;49m\u001B[38;5;124;43mcy_dijkstra(cost, targets_test)\u001B[39;49m\u001B[38;5;130;43;01m\\n\u001B[39;49;00m\u001B[38;5;124;43m'\u001B[39;49m\u001B[43m)\u001B[49m\n",
      "File \u001B[1;32m~\\AppData\\Local\\pypoetry\\Cache\\virtualenvs\\cython-extensions-sc2-WkY2wNlb-py3.12\\Lib\\site-packages\\IPython\\core\\interactiveshell.py:2541\u001B[0m, in \u001B[0;36mInteractiveShell.run_cell_magic\u001B[1;34m(self, magic_name, line, cell)\u001B[0m\n\u001B[0;32m   2539\u001B[0m \u001B[38;5;28;01mwith\u001B[39;00m \u001B[38;5;28mself\u001B[39m\u001B[38;5;241m.\u001B[39mbuiltin_trap:\n\u001B[0;32m   2540\u001B[0m     args \u001B[38;5;241m=\u001B[39m (magic_arg_s, cell)\n\u001B[1;32m-> 2541\u001B[0m     result \u001B[38;5;241m=\u001B[39m \u001B[43mfn\u001B[49m\u001B[43m(\u001B[49m\u001B[38;5;241;43m*\u001B[39;49m\u001B[43margs\u001B[49m\u001B[43m,\u001B[49m\u001B[43m \u001B[49m\u001B[38;5;241;43m*\u001B[39;49m\u001B[38;5;241;43m*\u001B[39;49m\u001B[43mkwargs\u001B[49m\u001B[43m)\u001B[49m\n\u001B[0;32m   2543\u001B[0m \u001B[38;5;66;03m# The code below prevents the output from being displayed\u001B[39;00m\n\u001B[0;32m   2544\u001B[0m \u001B[38;5;66;03m# when using magics with decorator @output_can_be_silenced\u001B[39;00m\n\u001B[0;32m   2545\u001B[0m \u001B[38;5;66;03m# when the last Python token in the expression is a ';'.\u001B[39;00m\n\u001B[0;32m   2546\u001B[0m \u001B[38;5;28;01mif\u001B[39;00m \u001B[38;5;28mgetattr\u001B[39m(fn, magic\u001B[38;5;241m.\u001B[39mMAGIC_OUTPUT_CAN_BE_SILENCED, \u001B[38;5;28;01mFalse\u001B[39;00m):\n",
      "File \u001B[1;32m~\\AppData\\Local\\pypoetry\\Cache\\virtualenvs\\cython-extensions-sc2-WkY2wNlb-py3.12\\Lib\\site-packages\\IPython\\core\\magics\\execution.py:1199\u001B[0m, in \u001B[0;36mExecutionMagics.timeit\u001B[1;34m(self, line, cell, local_ns)\u001B[0m\n\u001B[0;32m   1196\u001B[0m         \u001B[38;5;28;01mif\u001B[39;00m time_number \u001B[38;5;241m>\u001B[39m\u001B[38;5;241m=\u001B[39m \u001B[38;5;241m0.2\u001B[39m:\n\u001B[0;32m   1197\u001B[0m             \u001B[38;5;28;01mbreak\u001B[39;00m\n\u001B[1;32m-> 1199\u001B[0m all_runs \u001B[38;5;241m=\u001B[39m \u001B[43mtimer\u001B[49m\u001B[38;5;241;43m.\u001B[39;49m\u001B[43mrepeat\u001B[49m\u001B[43m(\u001B[49m\u001B[43mrepeat\u001B[49m\u001B[43m,\u001B[49m\u001B[43m \u001B[49m\u001B[43mnumber\u001B[49m\u001B[43m)\u001B[49m\n\u001B[0;32m   1200\u001B[0m best \u001B[38;5;241m=\u001B[39m \u001B[38;5;28mmin\u001B[39m(all_runs) \u001B[38;5;241m/\u001B[39m number\n\u001B[0;32m   1201\u001B[0m worst \u001B[38;5;241m=\u001B[39m \u001B[38;5;28mmax\u001B[39m(all_runs) \u001B[38;5;241m/\u001B[39m number\n",
      "File \u001B[1;32m~\\AppData\\Local\\Programs\\Python\\Python312\\Lib\\timeit.py:208\u001B[0m, in \u001B[0;36mTimer.repeat\u001B[1;34m(self, repeat, number)\u001B[0m\n\u001B[0;32m    206\u001B[0m r \u001B[38;5;241m=\u001B[39m []\n\u001B[0;32m    207\u001B[0m \u001B[38;5;28;01mfor\u001B[39;00m i \u001B[38;5;129;01min\u001B[39;00m \u001B[38;5;28mrange\u001B[39m(repeat):\n\u001B[1;32m--> 208\u001B[0m     t \u001B[38;5;241m=\u001B[39m \u001B[38;5;28;43mself\u001B[39;49m\u001B[38;5;241;43m.\u001B[39;49m\u001B[43mtimeit\u001B[49m\u001B[43m(\u001B[49m\u001B[43mnumber\u001B[49m\u001B[43m)\u001B[49m\n\u001B[0;32m    209\u001B[0m     r\u001B[38;5;241m.\u001B[39mappend(t)\n\u001B[0;32m    210\u001B[0m \u001B[38;5;28;01mreturn\u001B[39;00m r\n",
      "File \u001B[1;32m~\\AppData\\Local\\pypoetry\\Cache\\virtualenvs\\cython-extensions-sc2-WkY2wNlb-py3.12\\Lib\\site-packages\\IPython\\core\\magics\\execution.py:173\u001B[0m, in \u001B[0;36mTimer.timeit\u001B[1;34m(self, number)\u001B[0m\n\u001B[0;32m    171\u001B[0m gc\u001B[38;5;241m.\u001B[39mdisable()\n\u001B[0;32m    172\u001B[0m \u001B[38;5;28;01mtry\u001B[39;00m:\n\u001B[1;32m--> 173\u001B[0m     timing \u001B[38;5;241m=\u001B[39m \u001B[38;5;28;43mself\u001B[39;49m\u001B[38;5;241;43m.\u001B[39;49m\u001B[43minner\u001B[49m\u001B[43m(\u001B[49m\u001B[43mit\u001B[49m\u001B[43m,\u001B[49m\u001B[43m \u001B[49m\u001B[38;5;28;43mself\u001B[39;49m\u001B[38;5;241;43m.\u001B[39;49m\u001B[43mtimer\u001B[49m\u001B[43m)\u001B[49m\n\u001B[0;32m    174\u001B[0m \u001B[38;5;28;01mfinally\u001B[39;00m:\n\u001B[0;32m    175\u001B[0m     \u001B[38;5;28;01mif\u001B[39;00m gcold:\n",
      "File \u001B[1;32m<magic-timeit>:1\u001B[0m, in \u001B[0;36minner\u001B[1;34m(_it, _timer)\u001B[0m\n",
      "File \u001B[1;32m~\\PycharmProjects\\cython-extensions-sc2\\cython_extensions\\dijkstra.pyx:83\u001B[0m, in \u001B[0;36mcython_extensions.dijkstra.cy_dijkstra\u001B[1;34m()\u001B[0m\n",
      "\u001B[1;31mValueError\u001B[0m: Buffer dtype mismatch, expected 'float' but got 'double'"
     ]
    }
   ],
   "execution_count": 6
  },
  {
   "cell_type": "code",
   "id": "9f5fb567-809a-4823-aefa-569a2b21cf25",
   "metadata": {},
   "source": [
    "pathing = None\n",
    "targets = set()\n",
    "source = 0, 0\n",
    "\n",
    "fig, ax = plt.subplots()\n",
    "ax.set_title(\"Leftclick to add target. Rightclick to reset.\")\n",
    "img = ax.imshow(cost, picker=True)\n",
    "fig.colorbar(img)\n",
    "\n",
    "def draw():\n",
    "    if pathing is None:\n",
    "        data = cost\n",
    "    else:\n",
    "        data = pathing.distance.copy()\n",
    "        for p in pathing.get_path(source):\n",
    "            data[p] = np.nan\n",
    "        for t in targets:\n",
    "            data[t] = np.nan\n",
    "    img.set_array(data)\n",
    "    img.set_clim(vmax=np.ma.masked_invalid(data).max())\n",
    "    fig.canvas.flush_events()\n",
    "    \n",
    "def pick_target(event):\n",
    "    global pathing\n",
    "    p = int(event.ydata), int(event.xdata)\n",
    "    if event.button is MouseButton.LEFT:\n",
    "        if cost[p] < np.inf:\n",
    "            targets.add(p)\n",
    "        pathing = cy_dijkstra(cost, np.array(list(targets)))\n",
    "    elif event.button is MouseButton.RIGHT:\n",
    "        targets.clear()\n",
    "        pathing = None\n",
    "    draw()\n",
    "\n",
    "def pick_source(event):\n",
    "    global source\n",
    "    source = int(event.ydata), int(event.xdata)\n",
    "    draw()\n",
    "\n",
    "fig.canvas.mpl_connect('button_press_event', pick_target)\n",
    "fig.canvas.mpl_connect('motion_notify_event', pick_source)\n",
    "plt.show()"
   ],
   "outputs": [],
   "execution_count": null
  }
 ],
 "metadata": {
  "kernelspec": {
   "display_name": "Python 3 (ipykernel)",
   "language": "python",
   "name": "python3"
  },
  "language_info": {
   "codemirror_mode": {
    "name": "ipython",
    "version": 3
   },
   "file_extension": ".py",
   "mimetype": "text/x-python",
   "name": "python",
   "nbconvert_exporter": "python",
   "pygments_lexer": "ipython3",
   "version": "3.11.3"
  }
 },
 "nbformat": 4,
 "nbformat_minor": 5
}
